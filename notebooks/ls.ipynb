{
 "cells": [
  {
   "cell_type": "code",
   "execution_count": 5,
   "metadata": {},
   "outputs": [],
   "source": [
    "import sys\n",
    "sys.path.append(\"/Users/shvimas/Desktop/GitHub/diploma/src\")"
   ]
  },
  {
   "cell_type": "code",
   "execution_count": 6,
   "metadata": {},
   "outputs": [],
   "source": [
    "%matplotlib inline\n",
    "from importlib import reload\n",
    "import matplotlib.pyplot as pl\n",
    "from data_helpers import read_data, array2str\n",
    "import ls_pricing as ls\n",
    "from pars_range import Range, ParsRange\n",
    "import numpy as np\n",
    "\n",
    "pl.rcParams[\"figure.figsize\"] = (15, 9)"
   ]
  },
  {
   "cell_type": "code",
   "execution_count": 7,
   "metadata": {},
   "outputs": [],
   "source": [
    "pl.rcParams[\"figure.figsize\"] = (15, 9)"
   ]
  },
  {
   "cell_type": "code",
   "execution_count": 8,
   "metadata": {},
   "outputs": [],
   "source": [
    "try:\n",
    "    data, info = read_data(\"../SPH2_031612.csv\")\n",
    "except FileNotFoundError:\n",
    "    data, info = read_data(\"SPH2_031612.csv\")"
   ]
  },
  {
   "cell_type": "code",
   "execution_count": 9,
   "metadata": {},
   "outputs": [],
   "source": [
    "day = 0\n",
    "rate = .03\n",
    "q = rate\n",
    "maturity = info[day].mat / len(info)\n",
    "spot = info[day].spot\n",
    "is_call = True\n",
    "strikes = data.strikes[is_call][day]\n",
    "prices = data.prices[is_call][day]\n",
    "    \n",
    "strikes = strikes[:-10]\n",
    "prices = prices[:-10]\n",
    "\n",
    "args = (spot, strikes, maturity, rate, q, is_call)"
   ]
  },
  {
   "cell_type": "code",
   "execution_count": 10,
   "metadata": {},
   "outputs": [],
   "source": [
    "ls = reload(ls)"
   ]
  },
  {
   "cell_type": "code",
   "execution_count": 7,
   "metadata": {},
   "outputs": [
    {
     "name": "stdout",
     "output_type": "stream",
     "text": [
      "1\n20\n"
     ]
    }
   ],
   "source": [
    "alpha_range = Range(min=1.417, max=1.417, num=1)\n",
    "sigma_range = Range(min=.05, max=.09, num=20)\n",
    "\n",
    "pars = ParsRange(model=\"ls\", center=(1.417, .0718), widths=(.4, .02), dots=64)\n",
    "pars.alpha_range = alpha_range\n",
    "pars.sigma_range = sigma_range\n",
    "print(pars.alpha_range.num)\n",
    "print(pars.sigma_range.num)"
   ]
  },
  {
   "cell_type": "code",
   "execution_count": 8,
   "metadata": {},
   "outputs": [],
   "source": [
    "predicted_alpha = []\n",
    "for alpha, sigma in pars:\n",
    "    predicted_alpha.append(strikes)\n",
    "    predicted_alpha.append(ls.price_ls(pars=(alpha, sigma), args=args))"
   ]
  },
  {
   "cell_type": "code",
   "execution_count": 13,
   "metadata": {},
   "outputs": [
    {
     "data": {
      "image/png": "[encoded data removed]",
      "text/plain": [
       "<matplotlib.figure.Figure at 0x11abd14e0>"
      ]
     },
     "metadata": {},
     "output_type": "display_data"
    }
   ],
   "source": [
    "from structs import EvalArgs\n",
    "args2 = EvalArgs.from_tuple(args)\n",
    "args2.r = 0.0001\n",
    "\n",
    "p = pl.plot(#*predicted_alpha, \n",
    "            strikes, prices, \"k--\", \n",
    "            strikes, ls.price_ls(pars=(1.41737596,  0.07191287), args=args2.as_tuple()), \"r-.\",\n",
    "            strikes, ls.price_ls(pars=(1.32695262,  0.06663197), args=args), \"m-.\",\n",
    "            strikes, ls.price_ls(pars=(1.14185719,  0.07361844), args=args2.as_tuple()), \"g-.\",\n",
    "            strikes, ls.price_ls(pars=(1.02077429,  0.06171594), args=args2.as_tuple()), \"y-.\")"
   ]
  },
  {
   "cell_type": "code",
   "execution_count": 20,
   "metadata": {},
   "outputs": [
    {
     "name": "stdout",
     "output_type": "stream",
     "text": [
      "32.4230519263\n"
     ]
    },
    {
     "data": {
      "text/plain": [
       "31.928819510230703"
      ]
     },
     "execution_count": 20,
     "metadata": {},
     "output_type": "execute_result"
    }
   ],
   "source": [
    "from optimization import robust_mean_ratio, mean_ratio\n",
    "print(mean_ratio(predicted=ls.price_ls(pars=(1.99954862563, 0.999870404431), args=args), actual=prices))\n",
    "mean_ratio(predicted=ls.price_ls(pars=(1.99954862563, 0.999870404431), args=args2.as_tuple()), \n",
    "           actual=prices)"
   ]
  },
  {
   "cell_type": "code",
   "execution_count": 15,
   "metadata": {},
   "outputs": [
    {
     "data": {
      "text/plain": [
       "array([  1.21874473e-02,   1.27236926e-06,   1.02817689e-01])"
      ]
     },
     "execution_count": 15,
     "metadata": {},
     "output_type": "execute_result"
    }
   ],
   "source": [
    "args2 = EvalArgs()\n",
    "args2.r = .03\n",
    "args2.q = .03\n",
    "args2.maturity = .001\n",
    "args2.strikes = np.array([100, 110, 90])\n",
    "args2.spot = 100\n",
    "args2.is_call = True\n",
    "\n",
    "ls.price_ls(pars=(1.41737596,  1.7191287), args=args2.as_tuple())"
   ]
  },
  {
   "cell_type": "code",
   "execution_count": 23,
   "metadata": {},
   "outputs": [],
   "source": [
    "import modeling\n",
    "modeling = reload(modeling)\n",
    "ls = reload(ls)"
   ]
  },
  {
   "cell_type": "code",
   "execution_count": 36,
   "metadata": {
    "collapsed": true
   },
   "outputs": [],
   "source": [
    "res = modeling.tune_model(args=EvalArgs.from_tuple(args), \n",
    "                          model=\"ls\", metric=\"mean ratio\", prices=prices, \n",
    "                          bounds=((1.3, 1.5), (.05, .1)))"
   ]
  },
  {
   "cell_type": "code",
   "execution_count": 37,
   "metadata": {},
   "outputs": [
    {
     "data": {
      "text/plain": [
       "     fun: 1.0138516474592218\n     jac: array([ 0.08844161,  0.23493294])\n message: 'Optimization terminated successfully.'\n    nfev: 279\n     nit: 6\n success: True\n       x: array([ 1.35702891,  0.06854932])"
      ]
     },
     "execution_count": 37,
     "metadata": {},
     "output_type": "execute_result"
    }
   ],
   "source": [
    "res"
   ]
  },
  {
   "cell_type": "code",
   "execution_count": 21,
   "metadata": {
    "collapsed": true
   },
   "outputs": [],
   "source": [
    "new_args = EvalArgs.from_tuple(args)\n",
    "new_args.r = .0001"
   ]
  },
  {
   "cell_type": "code",
   "execution_count": 29,
   "metadata": {
    "collapsed": true
   },
   "outputs": [],
   "source": [
    "res = modeling.tune_model(args=new_args, \n",
    "                          model=\"ls\", metric=\"MAE\", prices=prices, \n",
    "                          bounds=((1.001, 1.999), (.005, 1)))\n"
   ]
  },
  {
   "cell_type": "code",
   "execution_count": 30,
   "metadata": {},
   "outputs": [
    {
     "data": {
      "text/plain": [
       "     fun: 1.6728905274563299\n     jac: array([ 3.35750578,  4.13793251])\n message: 'Optimization terminated successfully.'\n    nfev: 669\n     nit: 18\n success: True\n       x: array([ 1.02077429,  0.06171594])"
      ]
     },
     "execution_count": 30,
     "metadata": {},
     "output_type": "execute_result"
    }
   ],
   "source": [
    "res"
   ]
  },
  {
   "cell_type": "code",
   "execution_count": null,
   "metadata": {},
   "outputs": [],
   "source": [
    "def relative_diff(f, pars, args, prices):\n",
    "    predicted = f(pars=pars, args=args)\n",
    "    return (predicted - prices) / prices\n"
   ]
  },
  {
   "cell_type": "code",
   "execution_count": 40,
   "metadata": {},
   "outputs": [
    {
     "data": {
      "text/plain": [
       "[<matplotlib.lines.Line2D at 0x15278cab38>,\n <matplotlib.lines.Line2D at 0x15278cacf8>,\n <matplotlib.lines.Line2D at 0x15278d2550>]"
      ]
     },
     "execution_count": 40,
     "metadata": {},
     "output_type": "execute_result"
    },
    {
     "data": {
      "image/png": "[encoded data removed]",
      "text/plain": [
       "<matplotlib.figure.Figure at 0x11cae0f60>"
      ]
     },
     "metadata": {},
     "output_type": "display_data"
    }
   ],
   "source": [
    "pl.plot(strikes, ls.price_ls(args=new_args.as_tuple(), pars=(1.06083698,  0.06261838)) - prices, \"g\",\n",
    "        #strikes, ls.price_ls(args=new_args.as_tuple(), pars=(1.97393441,  0.02528949)) - prices, \"y\",\n",
    "        strikes, ls.price_ls(pars=(1.35702891,  0.06854932), args=args) - prices, \"r\",\n",
    "        strikes, ls.price_ls(pars=(1.34293434,  0.06775655), args=args) - prices, \"b\")\n"
   ]
  },
  {
   "cell_type": "code",
   "execution_count": 30,
   "metadata": {},
   "outputs": [
    {
     "name": "stdout",
     "output_type": "stream",
     "text": [
      "-0.413911480952\n-0.710102857863\n"
     ]
    }
   ],
   "source": [
    "import numpy as np\n",
    "\n",
    "print(np.mean(ls.price_ls(pars=(1.34293434,  0.06775655), args=args) - prices))\n",
    "print(np.mean(ls.price_ls(pars=(1.06083698,  0.06261838), args=new_args.as_tuple()) - prices))"
   ]
  },
  {
   "cell_type": "code",
   "execution_count": 42,
   "metadata": {},
   "outputs": [
    {
     "data": {
      "text/plain": [
       "array([ 276.5 ,  268.  ,  263.7 ,  259.5 ,  251.1 ,  242.6 ,  234.4 ,\n        226.  ,  222.  ,  217.9 ,  209.8 ,  201.8 ,  194.  ,  186.1 ,\n        182.3 ,  178.5 ,  171.  ,  163.6 ,  156.3 ,  148.9 ,  145.3 ,\n        141.8 ,  134.8 ,  127.9 ,  121.2 ,  114.6 ,  111.4 ,  108.2 ,\n        101.9 ,   95.7 ,   89.8 ,   83.9 ,   81.1 ,   78.3 ,   72.8 ,\n         67.5 ,   62.5 ,   57.7 ,   55.4 ,   53.2 ,   48.8 ,   44.6 ,\n         40.7 ,   36.9 ,   35.2 ,   33.4 ,   30.1 ,   27.1 ,   24.2 ,\n         21.5 ,   20.3 ,   19.1 ,   16.9 ,   14.9 ,   13.  ,   11.3 ,\n         10.5 ,    9.7 ,    8.3 ,    7.1 ,    6.2 ,    5.4 ,    5.  ,\n          4.65,    4.  ,    3.45,    3.  ,    2.6 ,    2.4 ,    2.25,\n          1.9 ,    1.65,    1.1 ,    0.85,    0.7 ,    0.55,    0.45])"
      ]
     },
     "execution_count": 42,
     "metadata": {},
     "output_type": "execute_result"
    }
   ],
   "source": [
    "prices"
   ]
  },
  {
   "cell_type": "code",
   "execution_count": null,
   "metadata": {},
   "outputs": [],
   "source": []
  },
  {
   "cell_type": "code",
   "execution_count": null,
   "metadata": {},
   "outputs": [],
   "source": []
  },
  {
   "cell_type": "code",
   "execution_count": null,
   "metadata": {},
   "outputs": [],
   "source": [
    "strikes > 20"
   ]
  },
  {
   "cell_type": "code",
   "execution_count": 12,
   "metadata": {},
   "outputs": [
    {
     "name": "stdout",
     "output_type": "stream",
     "text": [
      "k\n"
     ]
    }
   ],
   "source": [
    "print(pl.rcParams['axes.edgecolor'])"
   ]
  },
  {
   "cell_type": "code",
   "execution_count": null,
   "metadata": {},
   "outputs": [],
   "source": []
  },
  {
   "cell_type": "code",
   "execution_count": 37,
   "metadata": {},
   "outputs": [
    {
     "data": {
      "text/plain": [
       "     fun: 1.0046948903071264\n     jac: array([ 0.00327613,  0.04419911,  0.20501234])\n message: 'Optimization terminated successfully.'\n    nfev: 950\n     nit: 17\n success: True\n       x: array([ 0.03838801,  1.43761949,  0.06685587])"
      ]
     },
     "execution_count": 37,
     "metadata": {},
     "output_type": "execute_result"
    }
   ],
   "source": [
    "from scipy.optimize import differential_evolution\n",
    "\n",
    "\n",
    "def f(p: tuple, *args) -> float:\n",
    "    tmp = EvalArgs.from_tuple(args)\n",
    "    tmp.r = p[0]\n",
    "    return robust_mean_ratio(predicted=ls.price_ls(pars=p[1:], args=tmp.as_tuple()), actual=prices)\n",
    "\n",
    "\n",
    "r1 = differential_evolution(func=f, args=args, bounds=((0, .2), (1.0001, 1.9999), (1e-6, 2)))\n",
    "r1"
   ]
  },
  {
   "cell_type": "code",
   "execution_count": 38,
   "metadata": {},
   "outputs": [
    {
     "name": "stderr",
     "output_type": "stream",
     "text": [
      "/Users/shvimas/Desktop/GitHub/diploma/src/VG_Pricing_Integral_vectorized.py:72: RuntimeWarning: overflow encountered in power\n  return temp / ((1 - om1i * theta * nu + 0.5 * sigma2 * nu * om ** 2) ** (tau / nu))\n/Users/shvimas/Desktop/GitHub/diploma/src/VG_Pricing_Integral_vectorized.py:72: RuntimeWarning: invalid value encountered in true_divide\n  return temp / ((1 - om1i * theta * nu + 0.5 * sigma2 * nu * om ** 2) ** (tau / nu))\n/Users/shvimas/Desktop/GitHub/diploma/src/VG_Pricing_Integral_vectorized.py:72: RuntimeWarning: overflow encountered in true_divide\n  return temp / ((1 - om1i * theta * nu + 0.5 * sigma2 * nu * om ** 2) ** (tau / nu))\n"
     ]
    },
    {
     "name": "stderr",
     "output_type": "stream",
     "text": [
      "/Users/shvimas/miniconda3/envs/untitled/lib/python3.6/site-packages/scipy/optimize/_differentialevolution.py:485: RuntimeWarning: invalid value encountered in absolute\n  np.abs(np.mean(self.population_energies) + _MACHEPS))\n/Users/shvimas/miniconda3/envs/untitled/lib/python3.6/site-packages/scipy/optimize/_differentialevolution.py:542: RuntimeWarning: invalid value encountered in absolute\n  self.tol * np.abs(np.mean(self.population_energies)))\n"
     ]
    }
   ],
   "source": [
    "import vg_pricing as vg\n",
    "\n",
    "\n",
    "def f(p: tuple, *args) -> float:\n",
    "    tmp = EvalArgs.from_tuple(args)\n",
    "    tmp.r = p[0]\n",
    "    return robust_mean_ratio(predicted=vg.price_vg(pars=p[1:], args=tmp.as_tuple()), actual=prices)\n",
    "\n",
    "\n",
    "r2 = differential_evolution(func=f, args=args, bounds=((0, .2), (1e-6, 1.), (-1, 1), (1e-6, 1.)))\n",
    "r2"
   ]
  },
  {
   "cell_type": "code",
   "execution_count": null,
   "metadata": {},
   "outputs": [],
   "source": []
  }
 ],
 "metadata": {
  "kernelspec": {
   "display_name": "Python 3",
   "language": "python",
   "name": "python3"
  },
  "language_info": {
   "codemirror_mode": {
    "name": "ipython",
    "version": 3
   },
   "file_extension": ".py",
   "mimetype": "text/x-python",
   "name": "python",
   "nbconvert_exporter": "python",
   "pygments_lexer": "ipython3",
   "version": "3.6.3"
  }
 },
 "nbformat": 4,
 "nbformat_minor": 1
}
