{
 "cells": [
  {
   "cell_type": "code",
   "execution_count": 1,
   "metadata": {
    "collapsed": true
   },
   "outputs": [],
   "source": [
    "import sys\n",
    "\n",
    "if \"./src\" not in sys.path:\n",
    "    sys.path.append(\"./src\")"
   ]
  },
  {
   "cell_type": "code",
   "execution_count": 2,
   "metadata": {},
   "outputs": [],
   "source": [
    "%matplotlib inline\n",
    "import matplotlib.pyplot as pl\n",
    "import data_helpers as dh\n",
    "import helper_funcs as hf\n",
    "\n",
    "pl.rcParams[\"figure.figsize\"] = (15, 10)\n",
    "pl.style.use('ggplot')"
   ]
  },
  {
   "cell_type": "code",
   "execution_count": 3,
   "metadata": {},
   "outputs": [],
   "source": [
    "pl.rcParams[\"figure.figsize\"] = (15, 10)\n"
   ]
  },
  {
   "cell_type": "code",
   "execution_count": 4,
   "metadata": {},
   "outputs": [],
   "source": [
    "try:\n",
    "    data, info = hf.read_data(\"../SPH2_031612.csv\")\n",
    "except FileNotFoundError:\n",
    "    data, info = hf.read_data(\"SPH2_031612.csv\")\n",
    "    \n",
    "\n",
    "data, info = dh.prepare_data(data=data, info=info)"
   ]
  },
  {
   "cell_type": "code",
   "execution_count": 5,
   "metadata": {},
   "outputs": [],
   "source": [
    "day = 0\n",
    "rate = .03\n",
    "q = rate\n",
    "maturity = info[day].mat\n",
    "spot = info[day].spot\n",
    "is_call = True\n",
    "strikes = data.strikes[is_call][day]\n",
    "prices = data.prices[is_call][day]\n",
    "\n",
    "args = (spot, strikes, maturity, rate, q, is_call)"
   ]
  },
  {
   "cell_type": "code",
   "execution_count": 6,
   "metadata": {},
   "outputs": [],
   "source": []
  },
  {
   "cell_type": "code",
   "execution_count": 41,
   "metadata": {},
   "outputs": [],
   "source": [
    "import ls_pricing as ls\n",
    "import vg_pricing as vg\n",
    "import heston_pricing as he\n",
    "import numpy as np\n",
    "from importlib import reload\n",
    "import integration"
   ]
  },
  {
   "cell_type": "code",
   "execution_count": 42,
   "metadata": {},
   "outputs": [],
   "source": [
    "spot = 100\n",
    "strikes = np.array([90, 100, 110])\n",
    "t = 1.\n",
    "r = .01\n",
    "q = r\n",
    "is_call = False\n",
    "\n",
    "args = (spot, strikes, t, r, q, is_call)"
   ]
  },
  {
   "cell_type": "code",
   "execution_count": 66,
   "metadata": {},
   "outputs": [],
   "source": [
    "dots = np.array(range(1, 1001)) * .01"
   ]
  },
  {
   "cell_type": "code",
   "execution_count": 71,
   "metadata": {},
   "outputs": [],
   "source": [
    "vals_ls = ls.ls_psi(v=dots, beta=1.25, r=r, d=r, t=t, sigma=1e-1, alpha=1.90001)"
   ]
  },
  {
   "cell_type": "code",
   "execution_count": 72,
   "metadata": {},
   "outputs": [],
   "source": [
    ""
   ]
  },
  {
   "cell_type": "code",
   "execution_count": 72,
   "metadata": {},
   "outputs": [
    {
     "data": {
      "text/plain": [
       "[<matplotlib.lines.Line2D at 0x121fe7ef0>]"
      ]
     },
     "execution_count": 72,
     "metadata": {},
     "output_type": "execute_result"
    },
    {
     "data": {
      "image/png": "[encoded data removed]",
      "text/plain": [
       "<matplotlib.figure.Figure at 0x121b7ba20>"
      ]
     },
     "metadata": {},
     "output_type": "display_data"
    }
   ],
   "source": [
    "pl.plot(dots, np.abs(vals_ls), 'r')"
   ]
  },
  {
   "cell_type": "code",
   "execution_count": 23,
   "metadata": {},
   "outputs": [
    {
     "name": "stdout",
     "output_type": "stream",
     "text": [
      "[ 0.0728478  -0.1087769  -0.22591369]\n0.07102513313293457\n"
     ]
    }
   ],
   "source": [
    "from scipy.integrate import quad, simps\n",
    "from time import time\n",
    "\n",
    "\n",
    "t0 = time()\n",
    "print(simps(ls.ls_integrand_vectorized(v=dots, k=np.log(strikes / spot), t=t, r=r, d=r, beta=1.25,\n",
    "                                       sigma=.05, alpha=1.3), x=dots))\n",
    "print(time() - t0)"
   ]
  },
  {
   "cell_type": "code",
   "execution_count": 32,
   "metadata": {},
   "outputs": [
    {
     "name": "stdout",
     "output_type": "stream",
     "text": [
      "(0.33780423772075147, 1.1866633278267504e-08)\n0.01336669921875\n"
     ]
    }
   ],
   "source": [
    "t0 = time()\n",
    "print(quad(func=lambda v: ls.ls_integrand(v=v, k=np.log(strikes[0] / spot), t=t, r=r, d=r, beta=1.25,\n",
    "                                          sigma=.05, alpha=1.3), a=0, b=np.Inf))\n",
    "print(time() - t0)"
   ]
  },
  {
   "cell_type": "code",
   "execution_count": 25,
   "metadata": {},
   "outputs": [
    {
     "name": "stdout",
     "output_type": "stream",
     "text": [
      "[ 2.46602816  2.0830998   1.71621326]\n0.0035419464111328125\n"
     ]
    }
   ],
   "source": [
    "integration = reload(integration)\n",
    "t0 = time()\n",
    "print(integration.integrator.integrate(\n",
    "    f=lambda v: ls.ls_integrand_vectorized(\n",
    "        v=v, k=np.log(strikes / spot), t=t, r=r, d=r, beta=1.25, sigma=.05, alpha=1.3), \n",
    "    lower=dots[0], upper=dots[-1]))\n",
    "print(time() - t0)"
   ]
  },
  {
   "cell_type": "code",
   "execution_count": 27,
   "metadata": {},
   "outputs": [
    {
     "name": "stdout",
     "output_type": "stream",
     "text": [
      "[ 6.03348868  6.03255831  6.03101518]\n0.0029790401458740234\n"
     ]
    }
   ],
   "source": [
    "t0 = time()\n",
    "print(integration.integrator.integrate(\n",
    "    f=lambda v: ls.ls_integrand_vectorized(\n",
    "        v=v, k=np.log(strikes / spot), t=t, r=r, d=r, beta=1.25, sigma=.05, alpha=1.3), \n",
    "    lower=0, upper=100000))\n",
    "print(time() - t0)"
   ]
  },
  {
   "cell_type": "code",
   "execution_count": null,
   "metadata": {},
   "outputs": [],
   "source": []
  },
  {
   "cell_type": "code",
   "execution_count": null,
   "metadata": {},
   "outputs": [],
   "source": []
  },
  {
   "cell_type": "code",
   "execution_count": null,
   "metadata": {},
   "outputs": [],
   "source": []
  },
  {
   "cell_type": "code",
   "execution_count": null,
   "metadata": {},
   "outputs": [],
   "source": []
  },
  {
   "cell_type": "code",
   "execution_count": null,
   "metadata": {},
   "outputs": [],
   "source": []
  },
  {
   "cell_type": "code",
   "execution_count": null,
   "metadata": {},
   "outputs": [],
   "source": []
  }
 ],
 "metadata": {
  "kernelspec": {
   "display_name": "Python 2",
   "language": "python",
   "name": "python2"
  },
  "language_info": {
   "codemirror_mode": {
    "name": "ipython",
    "version": 2
   },
   "file_extension": ".py",
   "mimetype": "text/x-python",
   "name": "python",
   "nbconvert_exporter": "python",
   "pygments_lexer": "ipython2",
   "version": "2.7.6"
  }
 },
 "nbformat": 4,
 "nbformat_minor": 0
}
