{
 "cells": [
  {
   "cell_type": "code",
   "execution_count": 1,
   "metadata": {
    "collapsed": true
   },
   "outputs": [],
   "source": [
    "import sys\n",
    "sys.path.append(\"/Users/shvimas/Desktop/GitHub/diploma/src\")"
   ]
  },
  {
   "cell_type": "code",
   "execution_count": 2,
   "metadata": {},
   "outputs": [],
   "source": [
    "%matplotlib inline\n",
    "from importlib import reload\n",
    "import matplotlib.pyplot as pl\n",
    "from data_helpers import read_data, array2str\n",
    "import VG_Pricing_Integral_vectorized as vg\n",
    "from pars_range import Range, ParsRange\n",
    "\n",
    "pl.rcParams[\"figure.figsize\"] = (15, 9)"
   ]
  },
  {
   "cell_type": "code",
   "execution_count": 3,
   "metadata": {},
   "outputs": [],
   "source": [
    "pl.rcParams[\"figure.figsize\"] = (15, 9)"
   ]
  },
  {
   "cell_type": "code",
   "execution_count": 4,
   "metadata": {},
   "outputs": [],
   "source": [
    "try:\n",
    "    info, scall, sput, pcall, pput = read_data(\"../SPH2_031612.csv\")\n",
    "except FileNotFoundError:\n",
    "    info, scall, sput, pcall, pput = read_data(\"SPH2_031612.csv\")"
   ]
  },
  {
   "cell_type": "code",
   "execution_count": 5,
   "metadata": {},
   "outputs": [],
   "source": [
    "day = 0\n",
    "rate = .03\n",
    "q = rate\n",
    "maturity = info[day].mat / len(info)\n",
    "spot = info[day].spot\n",
    "is_call = True\n",
    "if is_call:\n",
    "    strikes = scall[day]\n",
    "    prices = pcall[day]\n",
    "else:\n",
    "    strikes = sput[day]\n",
    "    prices = pput[day]\n",
    "    \n",
    "strikes = strikes[:-10]\n",
    "prices = prices[:-10]\n",
    "\n",
    "args = (spot, strikes, maturity, rate, q, is_call)\n"
   ]
  },
  {
   "cell_type": "code",
   "execution_count": 6,
   "metadata": {},
   "outputs": [
    {
     "name": "stdout",
     "output_type": "stream",
     "text": [
      "1\n2\n10\n"
     ]
    }
   ],
   "source": [
    "nu_range = Range(min=.01, max=1, num=1)\n",
    "theta_range = Range(min=-.5, max=.5, num=2)\n",
    "sigma_range = Range(min=.05, max=.25, num=10)\n",
    "\n",
    "pars = ParsRange(model=\"vg\", center=(1.417, .0718, 0.5), widths=(.4, .02, .1), dots=64)\n",
    "pars.nu_range = nu_range\n",
    "pars.theta_range = theta_range\n",
    "pars.sigma_range = sigma_range\n",
    "print(pars.nu_range.num)\n",
    "print(pars.theta_range.num)\n",
    "print(pars.sigma_range.num)\n"
   ]
  },
  {
   "cell_type": "code",
   "execution_count": 7,
   "metadata": {},
   "outputs": [
    {
     "name": "stderr",
     "output_type": "stream",
     "text": [
      "/Users/shvimas/Desktop/GitHub/diploma/src/VG_Pricing_Integral_vectorized.py:73: RuntimeWarning: overflow encountered in power\n  return temp / ((1 - om1i * theta * nu + 0.5 * sigma2 * nu * om ** 2) ** (tau / nu))\n/Users/shvimas/Desktop/GitHub/diploma/src/VG_Pricing_Integral_vectorized.py:73: RuntimeWarning: invalid value encountered in true_divide\n  return temp / ((1 - om1i * theta * nu + 0.5 * sigma2 * nu * om ** 2) ** (tau / nu))\n"
     ]
    },
    {
     "name": "stderr",
     "output_type": "stream",
     "text": [
      "/Users/shvimas/Desktop/GitHub/diploma/src/VG_Pricing_Integral_vectorized.py:73: RuntimeWarning: overflow encountered in true_divide\n  return temp / ((1 - om1i * theta * nu + 0.5 * sigma2 * nu * om ** 2) ** (tau / nu))\n"
     ]
    }
   ],
   "source": [
    "predicted = []\n",
    "for params in pars:\n",
    "    predicted.append(strikes)\n",
    "    predicted.append(vg.price_vg(pars=params, args=args))\n",
    "    predicted.append(\"grey\")"
   ]
  },
  {
   "cell_type": "code",
   "execution_count": 7,
   "metadata": {},
   "outputs": [
    {
     "data": {
      "image/png": "[encoded data removed]",
      "text/plain": [
       "<matplotlib.figure.Figure at 0x10541ae10>"
      ]
     },
     "metadata": {},
     "output_type": "display_data"
    }
   ],
   "source": [
    "p = pl.plot(  # *predicted,\n",
    "            strikes, prices, \"k-.\",\n",
    "            strikes, vg.price_vg(pars=(0.580731040769, -0.613774399464, 0.491925563758), \n",
    "                                 args=args), \"b\")\n"
   ]
  },
  {
   "cell_type": "code",
   "execution_count": null,
   "metadata": {},
   "outputs": [],
   "source": []
  },
  {
   "cell_type": "code",
   "execution_count": 8,
   "metadata": {},
   "outputs": [],
   "source": [
    ""
   ]
  },
  {
   "cell_type": "code",
   "execution_count": null,
   "metadata": {},
   "outputs": [],
   "source": []
  },
  {
   "cell_type": "code",
   "execution_count": 9,
   "metadata": {},
   "outputs": [
    {
     "data": {
      "text/plain": [
       "5.4132856980158106"
      ]
     },
     "execution_count": 9,
     "metadata": {},
     "output_type": "execute_result"
    }
   ],
   "source": [
    "from optimization import robust_mean_ratio\n",
    "\n",
    "robust_mean_ratio(vg.price_vg(pars=(0.617978709269, 0.209866849981, 0.280712720301), args=args),\n",
    "                  prices)"
   ]
  },
  {
   "cell_type": "code",
   "execution_count": null,
   "metadata": {},
   "outputs": [],
   "source": []
  },
  {
   "cell_type": "code",
   "execution_count": null,
   "metadata": {},
   "outputs": [],
   "source": []
  },
  {
   "cell_type": "code",
   "execution_count": null,
   "metadata": {},
   "outputs": [],
   "source": []
  },
  {
   "cell_type": "code",
   "execution_count": null,
   "metadata": {},
   "outputs": [],
   "source": []
  },
  {
   "cell_type": "code",
   "execution_count": null,
   "metadata": {},
   "outputs": [],
   "source": []
  },
  {
   "cell_type": "code",
   "execution_count": null,
   "metadata": {},
   "outputs": [],
   "source": []
  },
  {
   "cell_type": "code",
   "execution_count": null,
   "metadata": {},
   "outputs": [],
   "source": []
  },
  {
   "cell_type": "code",
   "execution_count": null,
   "metadata": {},
   "outputs": [],
   "source": []
  },
  {
   "cell_type": "code",
   "execution_count": null,
   "metadata": {},
   "outputs": [],
   "source": []
  },
  {
   "cell_type": "code",
   "execution_count": null,
   "metadata": {},
   "outputs": [],
   "source": []
  },
  {
   "cell_type": "code",
   "execution_count": null,
   "metadata": {},
   "outputs": [],
   "source": []
  },
  {
   "cell_type": "code",
   "execution_count": null,
   "metadata": {},
   "outputs": [],
   "source": []
  },
  {
   "cell_type": "code",
   "execution_count": null,
   "metadata": {},
   "outputs": [],
   "source": []
  },
  {
   "cell_type": "code",
   "execution_count": null,
   "metadata": {},
   "outputs": [],
   "source": []
  },
  {
   "cell_type": "code",
   "execution_count": null,
   "metadata": {},
   "outputs": [],
   "source": []
  }
 ],
 "metadata": {
  "kernelspec": {
   "display_name": "Python 2",
   "language": "python",
   "name": "python2"
  },
  "language_info": {
   "codemirror_mode": {
    "name": "ipython",
    "version": 2
   },
   "file_extension": ".py",
   "mimetype": "text/x-python",
   "name": "python",
   "nbconvert_exporter": "python",
   "pygments_lexer": "ipython2",
   "version": "2.7.6"
  }
 },
 "nbformat": 4,
 "nbformat_minor": 0
}
