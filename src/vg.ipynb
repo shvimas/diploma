{
 "cells": [
  {
   "cell_type": "code",
   "execution_count": null,
   "metadata": {
    "collapsed": true
   },
   "outputs": [],
   "source": [
    "import sys\n",
    "sys.path.append(\"/Users/shvimas/Desktop/GitHub/diploma/src\")"
   ]
  },
  {
   "cell_type": "code",
   "execution_count": 3,
   "metadata": {},
   "outputs": [],
   "source": [
    "%matplotlib inline\n",
    "from importlib import reload\n",
    "import matplotlib.pyplot as pl\n",
    "from data_helpers import read_data, array2str\n",
    "import VG_Pricing_Integral_vectorized as vg\n",
    "from pars_range import Range, ParsRange\n",
    "\n",
    "pl.rcParams[\"figure.figsize\"] = (15, 9)"
   ]
  },
  {
   "cell_type": "code",
   "execution_count": 4,
   "metadata": {},
   "outputs": [],
   "source": [
    "try:\n",
    "    info, scall, sput, pcall, pput = read_data(\"../SPH2_031612.csv\")\n",
    "except FileNotFoundError:\n",
    "    info, scall, sput, pcall, pput = read_data(\"SPH2_031612.csv\")"
   ]
  },
  {
   "cell_type": "code",
   "execution_count": 5,
   "metadata": {},
   "outputs": [],
   "source": [
    "day = 0\n",
    "rate = .03\n",
    "q = rate\n",
    "maturity = info[day].mat / len(info)\n",
    "spot = info[day].spot\n",
    "is_call = True\n",
    "if is_call:\n",
    "    strikes = scall[day]\n",
    "    prices = pcall[day]\n",
    "else:\n",
    "    strikes = sput[day]\n",
    "    prices = pput[day]\n",
    "    \n",
    "strikes = strikes[:-10]\n",
    "prices = prices[:-10]\n",
    "\n",
    "args = (spot, strikes, maturity, rate, q, is_call)\n"
   ]
  },
  {
   "cell_type": "code",
   "execution_count": 6,
   "metadata": {},
   "outputs": [
    {
     "name": "stdout",
     "output_type": "stream",
     "text": [
      "1\n2\n10\n"
     ]
    }
   ],
   "source": [
    "nu_range = Range(min=.01, max=1, num=1)\n",
    "theta_range = Range(min=-.5, max=.5, num=2)\n",
    "sigma_range = Range(min=.05, max=.25, num=10)\n",
    "\n",
    "pars = ParsRange(model=\"vg\", center=(1.417, .0718, 0.5), widths=(.4, .02, .1), dots=64)\n",
    "pars.nu_range = nu_range\n",
    "pars.theta_range = theta_range\n",
    "pars.sigma_range = sigma_range\n",
    "print(pars.nu_range.num)\n",
    "print(pars.theta_range.num)\n",
    "print(pars.sigma_range.num)\n"
   ]
  },
  {
   "cell_type": "code",
   "execution_count": 7,
   "metadata": {},
   "outputs": [
    {
     "name": "stderr",
     "output_type": "stream",
     "text": [
      "/Users/shvimas/Desktop/GitHub/diploma/src/VG_Pricing_Integral_vectorized.py:73: RuntimeWarning: overflow encountered in power\n  return temp / ((1 - om1i * theta * nu + 0.5 * sigma2 * nu * om ** 2) ** (tau / nu))\n/Users/shvimas/Desktop/GitHub/diploma/src/VG_Pricing_Integral_vectorized.py:73: RuntimeWarning: invalid value encountered in true_divide\n  return temp / ((1 - om1i * theta * nu + 0.5 * sigma2 * nu * om ** 2) ** (tau / nu))\n"
     ]
    },
    {
     "name": "stderr",
     "output_type": "stream",
     "text": [
      "/Users/shvimas/Desktop/GitHub/diploma/src/VG_Pricing_Integral_vectorized.py:73: RuntimeWarning: overflow encountered in true_divide\n  return temp / ((1 - om1i * theta * nu + 0.5 * sigma2 * nu * om ** 2) ** (tau / nu))\n"
     ]
    }
   ],
   "source": [
    "predicted = []\n",
    "for params in pars:\n",
    "    predicted.append(strikes)\n",
    "    predicted.append(vg.price_vg(pars=params, args=args))\n",
    "    predicted.append(\"grey\")"
   ]
  },
  {
   "cell_type": "code",
   "execution_count": 8,
   "metadata": {},
   "outputs": [
    {
     "data": {
      "image/png": "[encoded data removed]",
      "text/plain": [
       "<matplotlib.figure.Figure at 0x1162f7c18>"
      ]
     },
     "metadata": {},
     "output_type": "display_data"
    }
   ],
   "source": [
    "p = pl.plot(*predicted,\n",
    "            strikes, prices, \"k-.\")\n"
   ]
  },
  {
   "cell_type": "code",
   "execution_count": null,
   "metadata": {},
   "outputs": [],
   "source": []
  },
  {
   "cell_type": "code",
   "execution_count": 9,
   "metadata": {},
   "outputs": [
    {
     "name": "stdout",
     "output_type": "stream",
     "text": [
      "(0.01, -0.5, 0.05)\n(0.01, -0.5, 0.07222222222222223)\n(0.01, -0.5, 0.09444444444444444)\n(0.01, -0.5, 0.11666666666666667)\n(0.01, -0.5, 0.1388888888888889)\n(0.01, -0.5, 0.16111111111111112)\n(0.01, -0.5, 0.18333333333333335)\n(0.01, -0.5, 0.20555555555555555)\n(0.01, -0.5, 0.2277777777777778)\n(0.01, -0.5, 0.25)\n(0.01, 0.5, 0.05)\n(0.01, 0.5, 0.07222222222222223)\n(0.01, 0.5, 0.09444444444444444)\n(0.01, 0.5, 0.11666666666666667)\n(0.01, 0.5, 0.1388888888888889)\n(0.01, 0.5, 0.16111111111111112)\n(0.01, 0.5, 0.18333333333333335)\n(0.01, 0.5, 0.20555555555555555)\n(0.01, 0.5, 0.2277777777777778)\n(0.01, 0.5, 0.25)\n"
     ]
    }
   ],
   "source": [
    "for params in pars.generate():\n",
    "    print(params)"
   ]
  },
  {
   "cell_type": "code",
   "execution_count": null,
   "metadata": {},
   "outputs": [],
   "source": []
  },
  {
   "cell_type": "code",
   "execution_count": null,
   "metadata": {},
   "outputs": [],
   "source": []
  },
  {
   "cell_type": "code",
   "execution_count": null,
   "metadata": {},
   "outputs": [],
   "source": []
  },
  {
   "cell_type": "code",
   "execution_count": null,
   "metadata": {},
   "outputs": [],
   "source": []
  },
  {
   "cell_type": "code",
   "execution_count": null,
   "metadata": {},
   "outputs": [],
   "source": []
  },
  {
   "cell_type": "code",
   "execution_count": null,
   "metadata": {},
   "outputs": [],
   "source": []
  },
  {
   "cell_type": "code",
   "execution_count": null,
   "metadata": {},
   "outputs": [],
   "source": []
  },
  {
   "cell_type": "code",
   "execution_count": null,
   "metadata": {},
   "outputs": [],
   "source": []
  },
  {
   "cell_type": "code",
   "execution_count": null,
   "metadata": {},
   "outputs": [],
   "source": []
  },
  {
   "cell_type": "code",
   "execution_count": null,
   "metadata": {},
   "outputs": [],
   "source": []
  },
  {
   "cell_type": "code",
   "execution_count": null,
   "metadata": {},
   "outputs": [],
   "source": []
  },
  {
   "cell_type": "code",
   "execution_count": null,
   "metadata": {},
   "outputs": [],
   "source": []
  },
  {
   "cell_type": "code",
   "execution_count": null,
   "metadata": {},
   "outputs": [],
   "source": []
  },
  {
   "cell_type": "code",
   "execution_count": null,
   "metadata": {},
   "outputs": [],
   "source": []
  },
  {
   "cell_type": "code",
   "execution_count": null,
   "metadata": {},
   "outputs": [],
   "source": []
  },
  {
   "cell_type": "code",
   "execution_count": null,
   "metadata": {},
   "outputs": [],
   "source": []
  },
  {
   "cell_type": "code",
   "execution_count": null,
   "metadata": {},
   "outputs": [],
   "source": []
  }
 ],
 "metadata": {
  "kernelspec": {
   "display_name": "Python 2",
   "language": "python",
   "name": "python2"
  },
  "language_info": {
   "codemirror_mode": {
    "name": "ipython",
    "version": 2
   },
   "file_extension": ".py",
   "mimetype": "text/x-python",
   "name": "python",
   "nbconvert_exporter": "python",
   "pygments_lexer": "ipython2",
   "version": "2.7.6"
  }
 },
 "nbformat": 4,
 "nbformat_minor": 0
}
